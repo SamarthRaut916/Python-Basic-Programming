{
 "cells": [
  {
   "cell_type": "code",
   "execution_count": 6,
   "id": "3a7901b2-d6d5-4fd9-a741-46444d15f0b3",
   "metadata": {},
   "outputs": [
    {
     "name": "stdin",
     "output_type": "stream",
     "text": [
      "Enter VAlue of A= 22\n"
     ]
    },
    {
     "name": "stdout",
     "output_type": "stream",
     "text": [
      "Number is Positive...\n"
     ]
    }
   ],
   "source": [
    "                                                   #CONTROL FLOW STATEMENTS....\n",
    "#1.if...\n",
    "a=int(input(\"Enter VAlue of A=\"))\n",
    "if a>0:\n",
    " print(\"Number is Positive...\")"
   ]
  },
  {
   "cell_type": "code",
   "execution_count": 7,
   "id": "72936d29-74fe-4d5f-87f6-3863dfa3f4a7",
   "metadata": {},
   "outputs": [
    {
     "name": "stdin",
     "output_type": "stream",
     "text": [
      "Enter value of A= 21\n"
     ]
    },
    {
     "name": "stdout",
     "output_type": "stream",
     "text": [
      "Number is Odd...\n"
     ]
    }
   ],
   "source": [
    "#2.if-else...\n",
    "a=int(input(\"Enter value of A=\"))\n",
    "if a%2==0:\n",
    "    print(\"Number is Even...\")\n",
    "else:\n",
    "    print(\"Number is Odd...\")\n",
    "    "
   ]
  },
  {
   "cell_type": "code",
   "execution_count": 12,
   "id": "902b7322-9376-4822-81ad-09ab8254987f",
   "metadata": {},
   "outputs": [
    {
     "name": "stdin",
     "output_type": "stream",
     "text": [
      "Enter Value of N1= 23\n",
      "Enter value of N2= 435\n",
      "Enter Value of N3= 223\n"
     ]
    },
    {
     "name": "stdout",
     "output_type": "stream",
     "text": [
      "N2 is Greater...\n"
     ]
    }
   ],
   "source": [
    "#3.Nested If...\n",
    "n1=int(input(\"Enter Value of N1=\"))\n",
    "n2=int(input(\"Enter value of N2=\"))\n",
    "n3=int(input(\"Enter Value of N3=\"))\n",
    "if n1>n2:\n",
    "    if n1>n3:\n",
    "        print(\"N1 Is Greater...\")\n",
    "else:\n",
    " if n2>n1:\n",
    "    if n2>n3:\n",
    "        print(\"N2 is Greater...\")\n",
    "\n",
    " if n3>n1:\n",
    "     if n3>n2:\n",
    "         print(\"N3 is Greater...\")"
   ]
  },
  {
   "cell_type": "code",
   "execution_count": 12,
   "id": "dc77de42-d30d-4f3f-9499-6a6fb4e2fdef",
   "metadata": {},
   "outputs": [
    {
     "name": "stdin",
     "output_type": "stream",
     "text": [
      "Enter Marks Of Student= 60\n"
     ]
    },
    {
     "name": "stdout",
     "output_type": "stream",
     "text": [
      "first Class\n"
     ]
    }
   ],
   "source": [
    "#Display Grade of Student...\n",
    "m=int(input(\"Enter Marks Of Student=\"))\n",
    "if (m>75 and m<100):\n",
    "    print(\"Distinction\")\n",
    "elif (m>=60 and m<75):\n",
    "    print(\"first Class\")\n",
    "elif (m>=35 and m<60):\n",
    "    print(\"Second Class\")\n",
    "else:\n",
    " print(\"Fail\")\n",
    "    \n",
    "    "
   ]
  },
  {
   "cell_type": "code",
   "execution_count": 33,
   "id": "249391cf-a8b1-4d9d-8194-e02d3b86f8ca",
   "metadata": {},
   "outputs": [
    {
     "name": "stdin",
     "output_type": "stream",
     "text": [
      "Enter The Amount: 555\n"
     ]
    },
    {
     "name": "stdout",
     "output_type": "stream",
     "text": [
      "277.5\n",
      "277.5\n"
     ]
    }
   ],
   "source": [
    "#Write Program for Give Discount For Amount....\n",
    "\n",
    "a=int(input(\"Enter The Amount:\"))\n",
    "if (a>=1000):\n",
    "      discount_price=0.10\n",
    "elif (a>=500):\n",
    "     discount_price=0.5\n",
    "\n",
    "D=a*discount_price\n",
    "TA=a-D\n",
    "print(D)\n",
    "print(TA)\n"
   ]
  },
  {
   "cell_type": "code",
   "execution_count": null,
   "id": "f86642e0-8475-4774-bdd4-48e7bfdbed9c",
   "metadata": {},
   "outputs": [],
   "source": []
  }
 ],
 "metadata": {
  "kernelspec": {
   "display_name": "Python 3 (ipykernel)",
   "language": "python",
   "name": "python3"
  },
  "language_info": {
   "codemirror_mode": {
    "name": "ipython",
    "version": 3
   },
   "file_extension": ".py",
   "mimetype": "text/x-python",
   "name": "python",
   "nbconvert_exporter": "python",
   "pygments_lexer": "ipython3",
   "version": "3.12.7"
  }
 },
 "nbformat": 4,
 "nbformat_minor": 5
}
