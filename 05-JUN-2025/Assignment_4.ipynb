{
 "cells": [
  {
   "cell_type": "code",
   "execution_count": 1,
   "id": "e725cd7b-b1d1-483f-bb6b-45e5e7911354",
   "metadata": {},
   "outputs": [
    {
     "name": "stdin",
     "output_type": "stream",
     "text": [
      "Enter Base= 12\n",
      "Enter Height= 32\n"
     ]
    },
    {
     "name": "stdout",
     "output_type": "stream",
     "text": [
      "Area of Triangle= 192.0\n"
     ]
    }
   ],
   "source": [
    "\n",
    "\n",
    "                                                     #USE OF INPUT FUNCTIONS...\n",
    "\n",
    "\n",
    "\n",
    "#calculate area of Triangle...\n",
    "b=int(input(\"Enter Base=\"))\n",
    "h=int(input(\"Enter Height=\"))\n",
    "a=1/2*b*h\n",
    "print(\"Area of Triangle=\",a)"
   ]
  },
  {
   "cell_type": "code",
   "execution_count": 2,
   "id": "a4c06b9f-7571-450e-9c33-fe8d3f35690c",
   "metadata": {},
   "outputs": [
    {
     "name": "stdin",
     "output_type": "stream",
     "text": [
      "Enter value of A= 12\n",
      "Enter value of B= 132\n"
     ]
    },
    {
     "name": "stdout",
     "output_type": "stream",
     "text": [
      "Addition= 12132\n"
     ]
    }
   ],
   "source": [
    "#Addition..\n",
    "a=(input(\"Enter value of A=\"))\n",
    "b=(input(\"Enter value of B=\"))\n",
    "c=a+b\n",
    "print(\"Addition=\",c)"
   ]
  },
  {
   "cell_type": "code",
   "execution_count": 3,
   "id": "9b446dfe-261d-406c-8e47-4895f7eb4323",
   "metadata": {},
   "outputs": [
    {
     "name": "stdin",
     "output_type": "stream",
     "text": [
      "Enter Length Of Rectangle= 2\n",
      "Enter B readth of Rectangle= 23\n"
     ]
    },
    {
     "name": "stdout",
     "output_type": "stream",
     "text": [
      "Length= 2\n",
      "Breadth= 23\n",
      "Area= 46\n"
     ]
    }
   ],
   "source": [
    "#Calculate Area of Rectangle.....\n",
    "l=int(input(\"Enter Length Of Rectangle=\"))\n",
    "b=int(input(\"Enter B readth of Rectangle=\"))\n",
    "print(\"Length=\",l)\n",
    "print(\"Breadth=\",b)\n",
    "area=l*b\n",
    "print(\"Area=\",area)"
   ]
  },
  {
   "cell_type": "code",
   "execution_count": 4,
   "id": "4e4fc06e-0618-4ce5-9d67-9bf5f0a4149b",
   "metadata": {},
   "outputs": [
    {
     "name": "stdin",
     "output_type": "stream",
     "text": [
      "Enter length of Square= 23\n"
     ]
    },
    {
     "name": "stdout",
     "output_type": "stream",
     "text": [
      "Length= 23\n",
      "Area= 529\n"
     ]
    }
   ],
   "source": [
    "a=int(input(\"Enter length of Square=\"))\n",
    "print(\"Length=\",a)\n",
    "area=a **2\n",
    "print(\"Area=\",area)"
   ]
  },
  {
   "cell_type": "code",
   "execution_count": 5,
   "id": "308dfedc-b41d-49bc-9335-d3fa33722252",
   "metadata": {},
   "outputs": [
    {
     "name": "stdin",
     "output_type": "stream",
     "text": [
      "Enter Radius= 3\n"
     ]
    },
    {
     "name": "stdout",
     "output_type": "stream",
     "text": [
      "Perimeter= 18.84\n"
     ]
    }
   ],
   "source": [
    " #perimeter of Circle....\n",
    "r=int(input(\"Enter Radius=\"))\n",
    "r=2*3.14*r\n",
    "print(\"Perimeter=\",r)"
   ]
  },
  {
   "cell_type": "code",
   "execution_count": 6,
   "id": "55e33628-7d17-4472-b7b1-5dccebc1d600",
   "metadata": {},
   "outputs": [
    {
     "name": "stdin",
     "output_type": "stream",
     "text": [
      "Enter your Name: Samarth\n",
      "Enter your last Name: Raut\n"
     ]
    },
    {
     "name": "stdout",
     "output_type": "stream",
     "text": [
      "Hello..Samarth   Raut\n"
     ]
    }
   ],
   "source": [
    "\n",
    "a=(input(\"Enter your Name:\"))\n",
    "b=(input(\"Enter your last Name:\"))\n",
    "c=a+b\n",
    "#print(\"\\n\",\"Hello...\",\"\\n\",c)\n",
    "print(\"Hello..\",end=\"\")\n",
    "print(a,\" \",b)"
   ]
  },
  {
   "cell_type": "code",
   "execution_count": null,
   "id": "7e621ade-06cb-4725-926a-92463c209136",
   "metadata": {},
   "outputs": [],
   "source": []
  }
 ],
 "metadata": {
  "kernelspec": {
   "display_name": "Python 3 (ipykernel)",
   "language": "python",
   "name": "python3"
  },
  "language_info": {
   "codemirror_mode": {
    "name": "ipython",
    "version": 3
   },
   "file_extension": ".py",
   "mimetype": "text/x-python",
   "name": "python",
   "nbconvert_exporter": "python",
   "pygments_lexer": "ipython3",
   "version": "3.12.7"
  }
 },
 "nbformat": 4,
 "nbformat_minor": 5
}
