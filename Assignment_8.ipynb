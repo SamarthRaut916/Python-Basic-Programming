{
 "cells": [
  {
   "cell_type": "code",
   "execution_count": 4,
   "id": "776f51e1-5670-4c5b-9d4d-d8fee3bc969d",
   "metadata": {},
   "outputs": [
    {
     "name": "stdout",
     "output_type": "stream",
     "text": [
      "Todo app 1\n",
      "[]\n",
      "\n",
      "                Enter the Option Number:\n",
      "                    1.Add Task\n",
      "                    2.Update Task\n",
      "                    3.Remove Task\n",
      "                    4.Exit\n",
      "        \n"
     ]
    },
    {
     "name": "stdin",
     "output_type": "stream",
     "text": [
      "Enter Option Number: 1\n",
      "Enter Your Task: C++\n"
     ]
    },
    {
     "name": "stdout",
     "output_type": "stream",
     "text": [
      "['C++']\n",
      "\n",
      "                Enter the Option Number:\n",
      "                    1.Add Task\n",
      "                    2.Update Task\n",
      "                    3.Remove Task\n",
      "                    4.Exit\n",
      "        \n"
     ]
    },
    {
     "name": "stdin",
     "output_type": "stream",
     "text": [
      "Enter Option Number: 1\n",
      "Enter Your Task: JAVA\n"
     ]
    },
    {
     "name": "stdout",
     "output_type": "stream",
     "text": [
      "['C++', 'JAVA']\n",
      "\n",
      "                Enter the Option Number:\n",
      "                    1.Add Task\n",
      "                    2.Update Task\n",
      "                    3.Remove Task\n",
      "                    4.Exit\n",
      "        \n"
     ]
    },
    {
     "name": "stdin",
     "output_type": "stream",
     "text": [
      "Enter Option Number: 1\n",
      "Enter Your Task: C\n"
     ]
    },
    {
     "name": "stdout",
     "output_type": "stream",
     "text": [
      "['C++', 'JAVA', 'C']\n",
      "\n",
      "                Enter the Option Number:\n",
      "                    1.Add Task\n",
      "                    2.Update Task\n",
      "                    3.Remove Task\n",
      "                    4.Exit\n",
      "        \n"
     ]
    },
    {
     "name": "stdin",
     "output_type": "stream",
     "text": [
      "Enter Option Number: 1\n",
      "Enter Your Task: DSU\n"
     ]
    },
    {
     "name": "stdout",
     "output_type": "stream",
     "text": [
      "['C++', 'JAVA', 'C', 'DSU']\n",
      "\n",
      "                Enter the Option Number:\n",
      "                    1.Add Task\n",
      "                    2.Update Task\n",
      "                    3.Remove Task\n",
      "                    4.Exit\n",
      "        \n"
     ]
    },
    {
     "name": "stdin",
     "output_type": "stream",
     "text": [
      "Enter Option Number: 2\n",
      "Enter Task ID: 2\n",
      "Enter Your Task: DBMS\n"
     ]
    },
    {
     "name": "stdout",
     "output_type": "stream",
     "text": [
      "['C++', 'JAVA', 'DBMS', 'DSU']\n",
      "\n",
      "                Enter the Option Number:\n",
      "                    1.Add Task\n",
      "                    2.Update Task\n",
      "                    3.Remove Task\n",
      "                    4.Exit\n",
      "        \n"
     ]
    },
    {
     "name": "stdin",
     "output_type": "stream",
     "text": [
      "Enter Option Number: 3\n",
      "Enter Task ID: 3\n"
     ]
    },
    {
     "name": "stdout",
     "output_type": "stream",
     "text": [
      "['C++', 'JAVA', 'DBMS']\n",
      "\n",
      "                Enter the Option Number:\n",
      "                    1.Add Task\n",
      "                    2.Update Task\n",
      "                    3.Remove Task\n",
      "                    4.Exit\n",
      "        \n"
     ]
    },
    {
     "name": "stdin",
     "output_type": "stream",
     "text": [
      "Enter Option Number: 4\n"
     ]
    }
   ],
   "source": [
    "#MAKE TODO LIST APPLICATION USING MATCH(),LOOPS & ELSE-IF CONDITION......\n",
    "\n",
    "#                                                  METHOD-1\n",
    "\n",
    "\n",
    "\n",
    "# Using loops & Conditions\n",
    "\n",
    "print(\"Todo app 1\")\n",
    "todoList=[]\n",
    "while True:\n",
    "        print(todoList)\n",
    "        print(\"\"\"\n",
    "                Enter the Option Number:\n",
    "                    1.Add Task\n",
    "                    2.Update Task\n",
    "                    3.Remove Task\n",
    "                    4.Exit\n",
    "        \"\"\")\n",
    "        option=input(\"Enter Option Number:\")\n",
    "        if option==\"1\":\n",
    "                    task=input(\"Enter Your Task:\")\n",
    "                    todoList.append(task)\n",
    "        elif option==\"2\":\n",
    "                  ind=int(input(\"Enter Task ID:\"))\n",
    "                  task=input(\"Enter Your Task:\")\n",
    "                  todoList[ind]=task\n",
    "        elif option==\"3\":\n",
    "                  ind=int(input(\"Enter Task ID:\"))\n",
    "                  todoList.pop(ind)\n",
    "        elif option==\"4\":\n",
    "                     break"
   ]
  },
  {
   "cell_type": "code",
   "execution_count": 2,
   "id": "8c1f8f45-36a9-4490-ad10-c75c7ac17e55",
   "metadata": {},
   "outputs": [
    {
     "name": "stdout",
     "output_type": "stream",
     "text": [
      "[]\n",
      "\n",
      "                Enter The Option Number:\n",
      "                    1.ADD Task\n",
      "                    2.Update Task\n",
      "                    3.Remove Task\n",
      "                    4.Exit\n",
      "    \n"
     ]
    },
    {
     "name": "stdin",
     "output_type": "stream",
     "text": [
      "Enter Your Option 1\n",
      "Enter Your Task: gh\n"
     ]
    },
    {
     "name": "stdout",
     "output_type": "stream",
     "text": [
      "['gh']\n",
      "\n",
      "                Enter The Option Number:\n",
      "                    1.ADD Task\n",
      "                    2.Update Task\n",
      "                    3.Remove Task\n",
      "                    4.Exit\n",
      "    \n"
     ]
    },
    {
     "name": "stdin",
     "output_type": "stream",
     "text": [
      "Enter Your Option 1\n",
      "Enter Your Task: bs\n"
     ]
    },
    {
     "name": "stdout",
     "output_type": "stream",
     "text": [
      "['gh', 'bs']\n",
      "\n",
      "                Enter The Option Number:\n",
      "                    1.ADD Task\n",
      "                    2.Update Task\n",
      "                    3.Remove Task\n",
      "                    4.Exit\n",
      "    \n"
     ]
    },
    {
     "name": "stdin",
     "output_type": "stream",
     "text": [
      "Enter Your Option 1\n",
      "Enter Your Task: vje\n"
     ]
    },
    {
     "name": "stdout",
     "output_type": "stream",
     "text": [
      "['gh', 'bs', 'vje']\n",
      "\n",
      "                Enter The Option Number:\n",
      "                    1.ADD Task\n",
      "                    2.Update Task\n",
      "                    3.Remove Task\n",
      "                    4.Exit\n",
      "    \n"
     ]
    },
    {
     "name": "stdin",
     "output_type": "stream",
     "text": [
      "Enter Your Option 2\n",
      "Enter Task Id: 2\n",
      "Enter Your Task: jhb\n"
     ]
    },
    {
     "name": "stdout",
     "output_type": "stream",
     "text": [
      "['gh', 'bs', 'jhb']\n",
      "\n",
      "                Enter The Option Number:\n",
      "                    1.ADD Task\n",
      "                    2.Update Task\n",
      "                    3.Remove Task\n",
      "                    4.Exit\n",
      "    \n"
     ]
    },
    {
     "name": "stdin",
     "output_type": "stream",
     "text": [
      "Enter Your Option 3\n",
      "Enter TAsk Id: 2\n"
     ]
    },
    {
     "name": "stdout",
     "output_type": "stream",
     "text": [
      "['gh', 'bs']\n",
      "\n",
      "                Enter The Option Number:\n",
      "                    1.ADD Task\n",
      "                    2.Update Task\n",
      "                    3.Remove Task\n",
      "                    4.Exit\n",
      "    \n"
     ]
    },
    {
     "name": "stdin",
     "output_type": "stream",
     "text": [
      "Enter Your Option 4\n"
     ]
    }
   ],
   "source": [
    "#                                                      METHOD-2\n",
    "#USING MATCH() FUNCTION......\n",
    "\n",
    "todoList=[]\n",
    "while True:\n",
    "    print(todoList)\n",
    "    print(\"\"\"\n",
    "                Enter The Option Number:\n",
    "                    1.ADD Task\n",
    "                    2.Update Task\n",
    "                    3.Remove Task\n",
    "                    4.Exit\n",
    "    \"\"\")\n",
    "    option=input(\"Enter Your Option\")\n",
    "    match(option):\n",
    "         case \"1\":\n",
    "            task=input(\"Enter Your Task:\")\n",
    "            todoList.append(task)\n",
    "         case \"2\":\n",
    "            ind=int(input(\"Enter Task Id:\"))\n",
    "            task=input(\"Enter Your Task:\")\n",
    "            todoList[ind]=task\n",
    "         case \"3\":\n",
    "            ind=int(input(\"Enter TAsk Id:\"))\n",
    "            todoList.pop(ind)\n",
    "         case \"4\":\n",
    "            break"
   ]
  },
  {
   "cell_type": "code",
   "execution_count": null,
   "id": "83680992-5a22-4647-953e-e7abc03a3025",
   "metadata": {},
   "outputs": [],
   "source": []
  }
 ],
 "metadata": {
  "kernelspec": {
   "display_name": "Python 3 (ipykernel)",
   "language": "python",
   "name": "python3"
  },
  "language_info": {
   "codemirror_mode": {
    "name": "ipython",
    "version": 3
   },
   "file_extension": ".py",
   "mimetype": "text/x-python",
   "name": "python",
   "nbconvert_exporter": "python",
   "pygments_lexer": "ipython3",
   "version": "3.12.7"
  }
 },
 "nbformat": 4,
 "nbformat_minor": 5
}
