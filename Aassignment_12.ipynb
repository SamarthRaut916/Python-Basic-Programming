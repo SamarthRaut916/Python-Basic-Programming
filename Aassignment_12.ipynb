{
 "cells": [
  {
   "cell_type": "code",
   "execution_count": null,
   "id": "e7b519a6-c8b2-4d46-8983-1ad52d19f2dd",
   "metadata": {},
   "outputs": [],
   "source": [
    "\n",
    "\n",
    "#READ FILE....\n",
    "\n",
    "fileName=\"atext.txt\"\n",
    "\n",
    "fileRead=open(fileName,\"r\").read()\n",
    "\n",
    "print(fileRead)\n",
    "\n",
    "\n",
    "\n",
    "\n",
    "#Create New File & WRITING FILE....\n",
    "newFileName=\"atext.txt\"\n",
    "\n",
    "data=\"\"\"\n",
    "            jhjfed jhsdfk kjhsdjfi aaskfh \n",
    "\"\"\"\n",
    "open(newFileName,\"w+\").write(data)\n",
    "\n",
    "#Priint RAndom Text:-\n",
    "import random\n",
    "num=random.randint(0,10)\n",
    "print(num)\n",
    "\n",
    "#Append Method..\n",
    "fileNAme=\"atext.txt\"\n",
    "\n",
    "open(fileNAme,\"w+\").write(data)\n",
    "\n"
   ]
  }
 ],
 "metadata": {
  "kernelspec": {
   "display_name": "Python 3 (ipykernel)",
   "language": "python",
   "name": "python3"
  },
  "language_info": {
   "codemirror_mode": {
    "name": "ipython",
    "version": 3
   },
   "file_extension": ".py",
   "mimetype": "text/x-python",
   "name": "python",
   "nbconvert_exporter": "python",
   "pygments_lexer": "ipython3",
   "version": "3.12.7"
  }
 },
 "nbformat": 4,
 "nbformat_minor": 5
}
