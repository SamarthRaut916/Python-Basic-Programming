{
 "cells": [
  {
   "cell_type": "code",
   "execution_count": null,
   "id": "30b386af-9be3-4078-9fc6-7ad28d8a4eba",
   "metadata": {},
   "outputs": [],
   "source": [
    "#                                               FUNCTION PART-1\n",
    "#ASSIGNMENT:- Create a Functions For Mathematical Operation......\n",
    "\n",
    "#1.Addition\n",
    "#2.Subtraction\n",
    "#3.Multiplication\n",
    "#4.Division\n",
    "\n",
    "\n",
    "# Declearation Of Function......\n",
    "\n",
    "def askUser():\n",
    "    return input(\"\\n\"\"Enter number:\")\n",
    "\n",
    "def askUser():\n",
    "    return input(\"\\n\"\"Enter number:\")\n",
    "\n",
    "\n",
    "#For ADDITION.....\n",
    "\n",
    "def add(n1,n2):\n",
    "    return int(n1)+int(n2)\n",
    "\n",
    "#For SUBTRACTION.....\n",
    "\n",
    "def sub(s1,s2):\n",
    "    return int(s1)-int(s2)\n",
    "\n",
    "#For MULTIPLICATION.....\n",
    "\n",
    "    return int(a1)*int(a2)\n",
    "\n",
    "#For DIVISION....\n",
    "def div(m1,m2):\n",
    "\n",
    "    return int(m1)/int(m2)\n",
    "def mul(a1,a2):\n",
    "\n",
    "#Calling Of Function......\n",
    "\n",
    " addition= add(askUser(),askUser())\n",
    " print(\"Addition=\",addition)\n",
    "\n",
    "subtract=sub(askUser(),askUser())\n",
    "print(\"Subtraction=\",subtract)\n",
    "\n",
    "multiplication=mul(askUser(),askUser())\n",
    "print(\"Multiplication=\",multiplication)\n",
    "\n",
    "division=div(askUser(),askUser())\n",
    "print(\"Division=\",division)\n"
   ]
  }
 ],
 "metadata": {
  "kernelspec": {
   "display_name": "Python 3 (ipykernel)",
   "language": "python",
   "name": "python3"
  },
  "language_info": {
   "codemirror_mode": {
    "name": "ipython",
    "version": 3
   },
   "file_extension": ".py",
   "mimetype": "text/x-python",
   "name": "python",
   "nbconvert_exporter": "python",
   "pygments_lexer": "ipython3",
   "version": "3.12.7"
  }
 },
 "nbformat": 4,
 "nbformat_minor": 5
}
