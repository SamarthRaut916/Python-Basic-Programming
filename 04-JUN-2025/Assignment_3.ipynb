{
 "cells": [
  {
   "cell_type": "code",
   "execution_count": 1,
   "id": "df1e5cec-97e1-4265-ab4d-5cd96a9f6387",
   "metadata": {},
   "outputs": [
    {
     "name": "stdout",
     "output_type": "stream",
     "text": [
      "Addition= 33\n"
     ]
    }
   ],
   "source": [
    "#Arithematic Operators..\n",
    "#1.Addition..\n",
    "a=10\n",
    "b=23\n",
    "c=a+b\n",
    "print(\"Addition=\",c)"
   ]
  },
  {
   "cell_type": "code",
   "execution_count": 2,
   "id": "a60cf914-933c-41c4-841b-0bd224757092",
   "metadata": {},
   "outputs": [
    {
     "name": "stdout",
     "output_type": "stream",
     "text": [
      "Subtraction= 9\n"
     ]
    }
   ],
   "source": [
    "#2.Subtraction\n",
    "a=32\n",
    "b=23\n",
    "c=a-b\n",
    "print(\"Subtraction=\",c)"
   ]
  },
  {
   "cell_type": "code",
   "execution_count": 3,
   "id": "e6e7e5e6-c993-4e77-ba90-41a48e4f3a02",
   "metadata": {},
   "outputs": [
    {
     "name": "stdout",
     "output_type": "stream",
     "text": [
      "Multiplication= 64\n"
     ]
    }
   ],
   "source": [
    "#3.Multiplication\n",
    "a=2\n",
    "b=32\n",
    "c=a*b\n",
    "print(\"Multiplication=\",c)"
   ]
  },
  {
   "cell_type": "code",
   "execution_count": 4,
   "id": "fc53765d-c4f8-4d5d-95fb-254d100e97ed",
   "metadata": {},
   "outputs": [
    {
     "name": "stdout",
     "output_type": "stream",
     "text": [
      "Division= 6.8\n"
     ]
    }
   ],
   "source": [
    "#4.Division\n",
    "a=34\n",
    "b=5\n",
    "c=a/b\n",
    "print(\"Division=\",c)"
   ]
  },
  {
   "cell_type": "code",
   "execution_count": 5,
   "id": "d45ea935-802c-4c43-9dbd-ed84bf3d21bc",
   "metadata": {},
   "outputs": [
    {
     "name": "stdout",
     "output_type": "stream",
     "text": [
      "Mod= 23\n"
     ]
    }
   ],
   "source": [
    "#5.Modulous(Remainder)\n",
    "a=23\n",
    "b=34\n",
    "c=a%b\n",
    "print(\"Mod=\",c)"
   ]
  },
  {
   "cell_type": "code",
   "execution_count": null,
   "id": "d92fd616-ffea-4c8a-b82d-8a6c1077c7d7",
   "metadata": {},
   "outputs": [],
   "source": []
  }
 ],
 "metadata": {
  "kernelspec": {
   "display_name": "Python 3 (ipykernel)",
   "language": "python",
   "name": "python3"
  },
  "language_info": {
   "codemirror_mode": {
    "name": "ipython",
    "version": 3
   },
   "file_extension": ".py",
   "mimetype": "text/x-python",
   "name": "python",
   "nbconvert_exporter": "python",
   "pygments_lexer": "ipython3",
   "version": "3.12.7"
  }
 },
 "nbformat": 4,
 "nbformat_minor": 5
}
