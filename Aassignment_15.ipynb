{
 "cells": [
  {
   "cell_type": "code",
   "execution_count": null,
   "id": "08f0e46a-7aa9-4d8b-b568-510c3cd792e3",
   "metadata": {},
   "outputs": [],
   "source": [
    "import pandas\n",
    "\n",
    "fileName=\"10thResult.csv\"\n",
    "\n",
    "\n",
    "data=pandas.read_csv(fileName)\n",
    "\n",
    "#print(data.describe())\n",
    "#print(data.head(3))\n",
    "\n",
    "#print(data.tail(3))\n",
    "\n",
    "\n",
    "\n",
    "#print(data['Name'])\n",
    "\n",
    "print(data.query('`Total` > 250' ))\n"
   ]
  }
 ],
 "metadata": {
  "kernelspec": {
   "display_name": "Python 3 (ipykernel)",
   "language": "python",
   "name": "python3"
  },
  "language_info": {
   "codemirror_mode": {
    "name": "ipython",
    "version": 3
   },
   "file_extension": ".py",
   "mimetype": "text/x-python",
   "name": "python",
   "nbconvert_exporter": "python",
   "pygments_lexer": "ipython3",
   "version": "3.12.7"
  }
 },
 "nbformat": 4,
 "nbformat_minor": 5
}
