{
 "cells": [
  {
   "cell_type": "code",
   "execution_count": null,
   "id": "9cd01bd7-0ec6-4ea9-a03c-b44e02b65b5f",
   "metadata": {},
   "outputs": [],
   "source": [
    "import csv\n",
    "import pandas as pd\n",
    "\n",
    "\n",
    "\n",
    "data  = pd.read_csv(\"10thResult.csv\")\n",
    "# print(data)\n",
    "\n",
    "\n",
    "listData = []\n",
    "\n",
    "for i in data.iterrows():\n",
    "    # print(i[\"Roll_No\"])\n",
    "    # print(type(i[0]))\n",
    "    # print(i[0])\n",
    "    # print(i[1][0])\n",
    "    # print(i[1][1])\n",
    "    # print(i[1][2])\n",
    "    # print(i[1][3])\n",
    "    # print(i[1][4])\n",
    "    # print(i[1][5])\n",
    "    # print(i[1][6])\n",
    "    obj = {\n",
    "        \"Roll_No\":i[1][0],\n",
    "        \"Name\":i[1][1]\n",
    "\n",
    "    }\n",
    "\n",
    "    # print(obj)\n",
    "    listData.append(obj)\n",
    "\n",
    "# print(listData)\n",
    "import json\n",
    "\n",
    "with open(\"10thResult.json\", \"w+\") as f:\n",
    "    json.dump(listData,f)\n",
    "\n",
    "\n",
    "\n",
    "\n"
   ]
  }
 ],
 "metadata": {
  "kernelspec": {
   "display_name": "Python 3 (ipykernel)",
   "language": "python",
   "name": "python3"
  },
  "language_info": {
   "codemirror_mode": {
    "name": "ipython",
    "version": 3
   },
   "file_extension": ".py",
   "mimetype": "text/x-python",
   "name": "python",
   "nbconvert_exporter": "python",
   "pygments_lexer": "ipython3",
   "version": "3.12.7"
  }
 },
 "nbformat": 4,
 "nbformat_minor": 5
}
