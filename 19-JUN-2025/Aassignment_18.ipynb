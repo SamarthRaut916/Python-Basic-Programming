{
 "cells": [
  {
   "cell_type": "code",
   "execution_count": null,
   "id": "9a69e5af-5db6-444c-a3db-7eedd4a167f3",
   "metadata": {},
   "outputs": [],
   "source": [
    "#Object Oriented Programming In Python.....\n",
    "\n",
    "class cA:\n",
    "    def __init__(self):\n",
    "        pass\n",
    "    \n",
    "    def add(self,n1,n2):\n",
    "        print(n1+n2)\n",
    "\n",
    "    def add(self,n1,n2,n3):\n",
    "        print(n1+n2+n3)\n",
    "\n",
    "    def show():\n",
    "         print(\"This is Addition \")\n",
    "\n",
    "A=cA()\n",
    "A.add(545,4,2)"
   ]
  }
 ],
 "metadata": {
  "kernelspec": {
   "display_name": "Python 3 (ipykernel)",
   "language": "python",
   "name": "python3"
  },
  "language_info": {
   "codemirror_mode": {
    "name": "ipython",
    "version": 3
   },
   "file_extension": ".py",
   "mimetype": "text/x-python",
   "name": "python",
   "nbconvert_exporter": "python",
   "pygments_lexer": "ipython3",
   "version": "3.12.7"
  }
 },
 "nbformat": 4,
 "nbformat_minor": 5
}
