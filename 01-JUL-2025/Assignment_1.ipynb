{
 "cells": [
  {
   "cell_type": "code",
   "execution_count": 3,
   "id": "51cd2e96-1e71-4207-9795-97963c980b1c",
   "metadata": {},
   "outputs": [
    {
     "name": "stdout",
     "output_type": "stream",
     "text": [
      "Hello...\n"
     ]
    }
   ],
   "source": [
    "#print message..\n",
    "print(\"Hello...\")\n",
    "\n",
    "# arithmetic operators\n",
    "# +, -, /, *, //, **, %\n"
   ]
  },
  {
   "cell_type": "code",
   "execution_count": 4,
   "id": "f509f512-94a3-4030-bb98-3d2df5bf0356",
   "metadata": {},
   "outputs": [
    {
     "name": "stdout",
     "output_type": "stream",
     "text": [
      "Addition= 30\n"
     ]
    }
   ],
   "source": [
    "#Addition\n",
    "a=10\n",
    "b=20\n",
    "c=a+b\n",
    "print(\"Addition=\",c)"
   ]
  },
  {
   "cell_type": "code",
   "execution_count": 5,
   "id": "13ae438e-4dba-4811-bfb8-afab04bb2d6d",
   "metadata": {},
   "outputs": [
    {
     "name": "stdout",
     "output_type": "stream",
     "text": [
      "Subtraction= 15\n"
     ]
    }
   ],
   "source": [
    "#subtraction\n",
    "a=20\n",
    "b=5\n",
    "c=a-b\n",
    "print(\"Subtraction=\",c)"
   ]
  },
  {
   "cell_type": "code",
   "execution_count": 7,
   "id": "fd092421-98d4-4313-b639-088423fb47db",
   "metadata": {},
   "outputs": [
    {
     "name": "stdout",
     "output_type": "stream",
     "text": [
      "Multiplication= 10\n"
     ]
    }
   ],
   "source": [
    "#Multiplication\n",
    "a=2\n",
    "b=5\n",
    "c=a*b\n",
    "print(\"Multiplication=\",c)"
   ]
  },
  {
   "cell_type": "code",
   "execution_count": 13,
   "id": "7ecaae1d-38f4-48eb-a10b-ca2630163504",
   "metadata": {},
   "outputs": [
    {
     "name": "stdout",
     "output_type": "stream",
     "text": [
      "Division= 3\n"
     ]
    }
   ],
   "source": [
    "#Division\n",
    "a=15\n",
    "b=5\n",
    "c=a//b\n",
    "print(\"Division=\",c)"
   ]
  },
  {
   "cell_type": "code",
   "execution_count": 4,
   "id": "3e54d7cb-05e3-419a-8453-a982840c26bf",
   "metadata": {},
   "outputs": [
    {
     "name": "stdout",
     "output_type": "stream",
     "text": [
      "27\n"
     ]
    }
   ],
   "source": [
    "a=3\n",
    "print(a ** 3)"
   ]
  },
  {
   "cell_type": "code",
   "execution_count": 7,
   "id": "ea79492a-8cd5-40e0-b51a-8ad34468e059",
   "metadata": {},
   "outputs": [
    {
     "name": "stdout",
     "output_type": "stream",
     "text": [
      "0\n"
     ]
    }
   ],
   "source": [
    "print(12 % 3)"
   ]
  },
  {
   "cell_type": "code",
   "execution_count": 11,
   "id": "e403e7ea-8e4e-4d7f-927c-c1262045c384",
   "metadata": {},
   "outputs": [
    {
     "name": "stdin",
     "output_type": "stream",
     "text": [
      "Enter value of A= 10\n",
      "Enter value of B= 20\n"
     ]
    },
    {
     "name": "stdout",
     "output_type": "stream",
     "text": [
      "Addition= 1020\n"
     ]
    }
   ],
   "source": [
    "a=(input(\"Enter value of A=\"))\n",
    "b=(input(\"Enter value of B=\"))\n",
    "c=a+b\n",
    "print(\"Addition=\",c)"
   ]
  },
  {
   "cell_type": "code",
   "execution_count": 25,
   "id": "588ec855-a8ca-422d-bc5c-0a76e2339e5c",
   "metadata": {},
   "outputs": [
    {
     "name": "stdin",
     "output_type": "stream",
     "text": [
      "Enter your Name: Samarth\n",
      "Enter your last Name: Raut\n"
     ]
    },
    {
     "name": "stdout",
     "output_type": "stream",
     "text": [
      "Hello..Samarth   Raut\n"
     ]
    }
   ],
   "source": [
    "\n",
    "a=(input(\"Enter your Name:\"))\n",
    "b=(input(\"Enter your last Name:\"))\n",
    "c=a+b\n",
    "#print(\"\\n\",\"Hello...\",\"\\n\",c)\n",
    "print(\"Hello..\",end=\"\")\n",
    "print(a,\" \",b)"
   ]
  },
  {
   "cell_type": "code",
   "execution_count": 30,
   "id": "075bf157-0315-497a-8327-3df3091ae845",
   "metadata": {},
   "outputs": [
    {
     "name": "stdout",
     "output_type": "stream",
     "text": [
      "ABCD*-*-*XYZ*-*-*QWERTY\n"
     ]
    }
   ],
   "source": [
    "# print(\"1\", end=\"---\")\n",
    "# print(\"101\")\n",
    "# print(\"01\")\n",
    "# print(\"10\")\n",
    "# print(\"10\")\n",
    "# print(\"110\")\n",
    "# print(\"1\")\n",
    "\n",
    "print(\"ABCD\", \"XYZ\", \"QWERTY\", sep=\"*-*-*\")"
   ]
  },
  {
   "cell_type": "code",
   "execution_count": 31,
   "id": "44f1a97d-9bd4-4d12-b0cc-472fd38f37a5",
   "metadata": {},
   "outputs": [
    {
     "name": "stdin",
     "output_type": "stream",
     "text": [
      "Enter Length Of Rectangle= 10\n",
      "Enter B readth of Rectangle= 20\n"
     ]
    },
    {
     "name": "stdout",
     "output_type": "stream",
     "text": [
      "Length= 10\n",
      "Breadth= 20\n",
      "Area= 200\n"
     ]
    }
   ],
   "source": [
    "#Calculate Area of Rectangle.....\n",
    "l=int(input(\"Enter Length Of Rectangle=\"))\n",
    "b=int(input(\"Enter B readth of Rectangle=\"))\n",
    "print(\"Length=\",l)\n",
    "print(\"Breadth=\",b)\n",
    "area=l*b\n",
    "print(\"Area=\",area)"
   ]
  },
  {
   "cell_type": "code",
   "execution_count": 34,
   "id": "57e48e54-d412-445b-a4f9-36051ec87a6c",
   "metadata": {},
   "outputs": [
    {
     "name": "stdin",
     "output_type": "stream",
     "text": [
      "Enter length of Square= 5\n"
     ]
    },
    {
     "name": "stdout",
     "output_type": "stream",
     "text": [
      "Length= 5\n",
      "Area= 25\n"
     ]
    }
   ],
   "source": [
    "a=int(input(\"Enter length of Square=\"))\n",
    "print(\"Length=\",a)\n",
    "area=a **2\n",
    "print(\"Area=\",area)"
   ]
  },
  {
   "cell_type": "code",
   "execution_count": 1,
   "id": "477156ce-1ef5-494a-9c91-f5f6a6055ed5",
   "metadata": {},
   "outputs": [
    {
     "name": "stdin",
     "output_type": "stream",
     "text": [
      "Enter Radius= 2\n"
     ]
    },
    {
     "name": "stdout",
     "output_type": "stream",
     "text": [
      "Perimeter= 12.56\n"
     ]
    }
   ],
   "source": [
    " #perimeter of Circle....\n",
    "r=int(input(\"Enter Radius=\"))\n",
    "r=2*3.14*r\n",
    "print(\"Perimeter=\",r)"
   ]
  },
  {
   "cell_type": "code",
   "execution_count": 4,
   "id": "1ce80e2e-0c02-433f-ba4b-cd2fef6b2f51",
   "metadata": {},
   "outputs": [
    {
     "name": "stdin",
     "output_type": "stream",
     "text": [
      "Enter Length= 10\n",
      "Enter Height= 12\n"
     ]
    },
    {
     "name": "stdout",
     "output_type": "stream",
     "text": [
      "Perimeter= 60.0\n"
     ]
    }
   ],
   "source": [
    "#perimeter of Triangle..\n",
    "l=int(input(\"Enter Length=\"))\n",
    "h=int(input(\"Enter Height=\"))\n",
    "p=1/2*l*h\n",
    "print(\"Perimeter=\",p)"
   ]
  },
  {
   "cell_type": "code",
   "execution_count": 6,
   "id": "1a724ee2-c8ff-4d98-b00e-9b3752273441",
   "metadata": {},
   "outputs": [
    {
     "name": "stdin",
     "output_type": "stream",
     "text": [
      "Enter value= 5\n"
     ]
    },
    {
     "name": "stdout",
     "output_type": "stream",
     "text": [
      "Perimeter= 20\n"
     ]
    }
   ],
   "source": [
    "#perimeter of Square...\n",
    "s=int(input(\"Enter value=\"))\n",
    "p=s*4\n",
    "print(\"Perimeter=\",p)"
   ]
  },
  {
   "cell_type": "code",
   "execution_count": 7,
   "id": "a4f8b732-a8cc-4e6e-a7d5-7643d864d548",
   "metadata": {},
   "outputs": [
    {
     "name": "stdin",
     "output_type": "stream",
     "text": [
      "Enter Base= 10\n",
      "Enter Height= 5\n"
     ]
    },
    {
     "name": "stdout",
     "output_type": "stream",
     "text": [
      "Area of Triangle= 25.0\n"
     ]
    }
   ],
   "source": [
    "#calculate area of Triangle...\n",
    "b=int(input(\"Enter Base=\"))\n",
    "h=int(input(\"Enter Height=\"))\n",
    "a=1/2*b*h\n",
    "print(\"Area of Triangle=\",a)"
   ]
  },
  {
   "cell_type": "code",
   "execution_count": null,
   "id": "dc24217e-6f29-4a86-bebc-7a695bd78c70",
   "metadata": {},
   "outputs": [],
   "source": []
  }
 ],
 "metadata": {
  "kernelspec": {
   "display_name": "Python 3 (ipykernel)",
   "language": "python",
   "name": "python3"
  },
  "language_info": {
   "codemirror_mode": {
    "name": "ipython",
    "version": 3
   },
   "file_extension": ".py",
   "mimetype": "text/x-python",
   "name": "python",
   "nbconvert_exporter": "python",
   "pygments_lexer": "ipython3",
   "version": "3.12.7"
  }
 },
 "nbformat": 4,
 "nbformat_minor": 5
}
