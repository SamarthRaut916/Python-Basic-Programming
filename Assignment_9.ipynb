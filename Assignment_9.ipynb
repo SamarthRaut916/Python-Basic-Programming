{
 "cells": [
  {
   "cell_type": "code",
   "execution_count": null,
   "id": "baa96918-983f-4338-bee9-7af540da023a",
   "metadata": {},
   "outputs": [],
   "source": [
    "\n",
    "\n",
    "#PHONE BOOK APPLICATION USING DICTIONARY....\n",
    "\n",
    "\n",
    "#                                                METHOD-1\n",
    "#USING IF-ELSE STATEMENT...\n",
    "phonebook={}\n",
    "while True:\n",
    "    print(phonebook)\n",
    "    print(\"\"\"\n",
    "                Enter Your Number:\n",
    "                \n",
    "                1.Update Number\n",
    "                2.Remove Number\n",
    "                3.Exit\n",
    "    \"\"\")\n",
    "    option=input(\"Enter Your Option Number:\")\n",
    "    if option==\"1\":\n",
    "        # task=input(\"Enter Your Name & Number:\")\n",
    "        USERNAME = input(\"Enter Your Name: \")\n",
    "        USERNUMBER = input(\"Enter yor Number\")\n",
    "        phonebook.update({USERNAME:USERNUMBER})\n",
    "    \n",
    "    elif option==\"2\":\n",
    "        UN=input(\"Enter User Name:\")\n",
    "        phonebook.pop(UN)\n",
    "       \n",
    "    \n",
    "    elif option==\"3\":\n",
    "        break\n",
    "\n",
    "        \n",
    "\n",
    "\n",
    "\n",
    "# phonebook={\n",
    "#     \"sam\":9999900999,\n",
    "#     \"sam2\":9090999999,\n",
    "#     \"sam3\":122122222222\n",
    "# }\n",
    "\n",
    "# print(phonebook)\n",
    "\n",
    "# # phonebook.popitem()\n",
    "# phonebook.pop(\"sam\")\n",
    "\n",
    "# print(phonebook)"
   ]
  }
 ],
 "metadata": {
  "kernelspec": {
   "display_name": "Python 3 (ipykernel)",
   "language": "python",
   "name": "python3"
  },
  "language_info": {
   "codemirror_mode": {
    "name": "ipython",
    "version": 3
   },
   "file_extension": ".py",
   "mimetype": "text/x-python",
   "name": "python",
   "nbconvert_exporter": "python",
   "pygments_lexer": "ipython3",
   "version": "3.12.7"
  }
 },
 "nbformat": 4,
 "nbformat_minor": 5
}
