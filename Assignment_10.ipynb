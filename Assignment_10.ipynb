sentence = "Hii Samarth, What are you doing ?"
#Word_count=6
#char_count=31
#space not include char=27
#H=3 ,a=4

word_count=0
char_count=0
word_count_without_space=0

#logic for Word Count.....
for i in sentence:
    if i