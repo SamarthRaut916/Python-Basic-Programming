{
 "cells": [
  {
   "cell_type": "code",
   "execution_count": null,
   "id": "7ef2fcae-bd64-4edb-aca3-759230fc64ab",
   "metadata": {},
   "outputs": [],
   "source": [
    "import json\n",
    "import pandas as pd\n",
    "\n",
    "#READ & LOAD JSON....\n",
    "with open(\"data.json\",\"r\")as f:\n",
    "    data= json.load(f)\n",
    "\n",
    "#CHECK DATA....\n",
    "print(data)\n",
    "print(type(data))\n",
    "\n",
    "#CREATE AN EMPTY DATAFRAME....\n",
    "df=pd.DataFrame(columns=['id','name','score'])\n",
    "\n",
    "#LOOP THROUGH JSON & ADD TO DATAFRAME....\n",
    "for item in data:\n",
    "    new_row=pd.DataFrame([{\n",
    "\n",
    "        \"id\":item.get(\"id\"),\n",
    "        \"name\":item.get(\"name\"),\n",
    "        \"score\":item.get(\"score\")\n",
    "\n",
    "    }])\n",
    "    df=pd.concat([df,new_row],ignore_index=True)\n",
    "\n",
    "    #EXPORT TO CSV....\n",
    "    df.to_csv(\"myData.csv\",index=False)"
   ]
  }
 ],
 "metadata": {
  "kernelspec": {
   "display_name": "Python 3 (ipykernel)",
   "language": "python",
   "name": "python3"
  },
  "language_info": {
   "codemirror_mode": {
    "name": "ipython",
    "version": 3
   },
   "file_extension": ".py",
   "mimetype": "text/x-python",
   "name": "python",
   "nbconvert_exporter": "python",
   "pygments_lexer": "ipython3",
   "version": "3.12.7"
  }
 },
 "nbformat": 4,
 "nbformat_minor": 5
}
